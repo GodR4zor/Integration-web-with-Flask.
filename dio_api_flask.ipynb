{
  "cells": [
    {
      "cell_type": "markdown",
      "metadata": {
        "id": "view-in-github",
        "colab_type": "text"
      },
      "source": [
        "<a href=\"https://colab.research.google.com/github/GodR4zor/Integration-web-with-Flask./blob/main/dio_api_flask.ipynb\" target=\"_parent\"><img src=\"https://colab.research.google.com/assets/colab-badge.svg\" alt=\"Open In Colab\"/></a>"
      ]
    },
    {
      "cell_type": "code",
      "execution_count": null,
      "metadata": {
        "id": "KYmO5ejmKcV7",
        "colab": {
          "base_uri": "https://localhost:8080/"
        },
        "outputId": "b8547d78-ac39-4d28-ac17-cac46c12a2ef"
      },
      "outputs": [
        {
          "output_type": "stream",
          "name": "stdout",
          "text": [
            "Requirement already satisfied: flask in /usr/local/lib/python3.10/dist-packages (2.2.5)\n",
            "Requirement already satisfied: Werkzeug>=2.2.2 in /usr/local/lib/python3.10/dist-packages (from flask) (3.0.2)\n",
            "Requirement already satisfied: Jinja2>=3.0 in /usr/local/lib/python3.10/dist-packages (from flask) (3.1.3)\n",
            "Requirement already satisfied: itsdangerous>=2.0 in /usr/local/lib/python3.10/dist-packages (from flask) (2.1.2)\n",
            "Requirement already satisfied: click>=8.0 in /usr/local/lib/python3.10/dist-packages (from flask) (8.1.7)\n",
            "Requirement already satisfied: MarkupSafe>=2.0 in /usr/local/lib/python3.10/dist-packages (from Jinja2>=3.0->flask) (2.1.5)\n"
          ]
        }
      ],
      "source": [
        "!pip install flask"
      ]
    },
    {
      "cell_type": "code",
      "source": [
        "!pip install pyngrok"
      ],
      "metadata": {
        "id": "zPNQBTydKYEz",
        "colab": {
          "base_uri": "https://localhost:8080/"
        },
        "outputId": "e3099844-8181-4d8f-c6e9-796d7a2dcc20"
      },
      "execution_count": null,
      "outputs": [
        {
          "output_type": "stream",
          "name": "stdout",
          "text": [
            "Requirement already satisfied: pyngrok in /usr/local/lib/python3.10/dist-packages (7.1.6)\n",
            "Requirement already satisfied: PyYAML>=5.1 in /usr/local/lib/python3.10/dist-packages (from pyngrok) (6.0.1)\n"
          ]
        }
      ]
    },
    {
      "cell_type": "code",
      "source": [
        "import random as rk\n",
        "import pandas as pd\n",
        "from pyngrok import ngrok\n",
        "from flask import request, jsonify, Flask, Response"
      ],
      "metadata": {
        "id": "IczjxR72YMW1"
      },
      "execution_count": null,
      "outputs": []
    },
    {
      "cell_type": "code",
      "source": [
        "port_number = 5000"
      ],
      "metadata": {
        "id": "vltnN8X0tShl"
      },
      "execution_count": null,
      "outputs": []
    },
    {
      "cell_type": "code",
      "source": [
        "app = Flask(__name__)\n",
        "ngrok.set_auth_token(\"2esyLrD0bgrPr4KrwVnSNSIoNPw_6bQJtsnuUVrd3cy8S2aGJ\")\n",
        "public_url = ngrok.connect(port_number).public_url\n",
        "\n",
        "data = [ {\n",
        "    \"Number\": 1,\n",
        "    \"Name\": \"Mahesh\",\n",
        "    \"Age\": 25,\n",
        "    \"City\": \"Bangalore\",\n",
        "    \"Country\": \"India\"\n",
        "      }, {\n",
        "    \"Number\": 2,\n",
        "    \"Name\": \"Alex\",\n",
        "    \"Age\": 26,\n",
        "    \"City\": \"London\",\n",
        "    \"Country\": \"UK\"\n",
        "      }, {\n",
        "    \"Number\": 3,\n",
        "    \"Name\": \"David\",\n",
        "    \"Age\": 27,\n",
        "    \"City\": \"Sao Francisco\",\n",
        "    \"Country\": \"USA\"\n",
        "      }, {\n",
        "    \"Number\": 4,\n",
        "    \"Name\": \"John\",\n",
        "    \"Age\": 28,\n",
        "    \"City\": \"Toronto\",\n",
        "    \"Country\": \"Canada\"\n",
        "      }, {\n",
        "    \"Number\": 5,\n",
        "    \"Name\": \"Chris\",\n",
        "    \"Age\": 29,\n",
        "    \"City\": \"Paris\",\n",
        "    \"Country\": \"France\"\n",
        "      }]\n",
        "\n",
        "\n",
        "@app.route(\"/\")\n",
        "def home():\n",
        "  return f\"Use {public_url}/index to acess Json data.\"\n",
        "\n",
        "@app.route(\"/index\")\n",
        "def input():\n",
        "  return jsonify(data)\n",
        "\n",
        "print(f\"To acces the Gloable link please click {public_url}\")\n",
        "\n",
        "app.run(port=port_number)"
      ],
      "metadata": {
        "colab": {
          "base_uri": "https://localhost:8080/"
        },
        "id": "YvKbFQdMs7vX",
        "outputId": "c4d80e80-0145-4eca-cbfa-2fb29afd7a79"
      },
      "execution_count": null,
      "outputs": [
        {
          "output_type": "stream",
          "name": "stdout",
          "text": [
            "To acces the Gloable link please click https://ec64-34-173-247-212.ngrok-free.app\n",
            " * Serving Flask app '__main__'\n",
            " * Debug mode: off\n"
          ]
        },
        {
          "output_type": "stream",
          "name": "stderr",
          "text": [
            "INFO:werkzeug:\u001b[31m\u001b[1mWARNING: This is a development server. Do not use it in a production deployment. Use a production WSGI server instead.\u001b[0m\n",
            " * Running on http://127.0.0.1:5000\n",
            "INFO:werkzeug:\u001b[33mPress CTRL+C to quit\u001b[0m\n",
            "INFO:werkzeug:127.0.0.1 - - [10/Apr/2024 21:14:10] \"GET / HTTP/1.1\" 200 -\n",
            "INFO:werkzeug:127.0.0.1 - - [10/Apr/2024 21:14:11] \"\u001b[33mGET /favicon.ico HTTP/1.1\u001b[0m\" 404 -\n",
            "INFO:werkzeug:127.0.0.1 - - [10/Apr/2024 21:14:16] \"GET /index HTTP/1.1\" 200 -\n",
            "WARNING:pyngrok.process.ngrok:t=2024-04-10T21:14:30+0000 lvl=warn msg=\"Stopping forwarder\" name=http-5000-f07ab6ce-28ae-4c8a-8453-e991cdc7d5d6 acceptErr=\"failed to accept connection: Listener closed\"\n",
            "WARNING:pyngrok.process.ngrok:t=2024-04-10T21:14:30+0000 lvl=warn msg=\"Error restarting forwarder\" name=http-5000-f07ab6ce-28ae-4c8a-8453-e991cdc7d5d6 err=\"failed to start tunnel: session closed\"\n"
          ]
        }
      ]
    }
  ],
  "metadata": {
    "colab": {
      "provenance": [],
      "authorship_tag": "ABX9TyPfzysKQDxPQ+b63oYYpP1q",
      "include_colab_link": true
    },
    "kernelspec": {
      "display_name": "Python 3",
      "name": "python3"
    },
    "language_info": {
      "name": "python"
    }
  },
  "nbformat": 4,
  "nbformat_minor": 0
}